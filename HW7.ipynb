{
 "cells": [
  {
   "cell_type": "code",
   "execution_count": 112,
   "id": "8a080e9f-e6f2-43b6-a307-46acb327a687",
   "metadata": {
    "scrolled": true
   },
   "outputs": [],
   "source": [
    "import numpy as np\n",
    "import pandas as pd\n",
    "import csv"
   ]
  },
  {
   "cell_type": "code",
   "execution_count": 216,
   "id": "31f622e6-bc8c-461c-965c-762efc376206",
   "metadata": {},
   "outputs": [],
   "source": [
    "class Person: \n",
    "    def __init__(self, name, device_type, browser, sex, age, bill,region):\n",
    "        self.name = name\n",
    "        self.device_type = device_type\n",
    "        self.browser = browser\n",
    "        self.sex = sex\n",
    "        self.age = age\n",
    "        self.bill = bill\n",
    "        self.region = region\n",
    "\n",
    "    def what_device(self):\n",
    "        if self.device_type == 'mobile':\n",
    "            return 'мобильного браузера' \n",
    "        elif self.device_type == 'tablet':\n",
    "            return 'планшета'\n",
    "        else:\n",
    "            return 'ПК '\n",
    "\n",
    "    def is_male(self):\n",
    "        if (self.sex == 'female'):\n",
    "            return 'женского'\n",
    "        else:\n",
    "            return'мужского'\n",
    "\n",
    "    def male_verb(self):\n",
    "        if (self.sex == 'female'):\n",
    "            return 'совершила'\n",
    "        else:\n",
    "            return 'совершил'\n",
    "        \n",
    "    def info(self):\n",
    "        return f'Пользователь {self.name} {self.is_male()} пола, {self.age} лет, {self.male_verb()} покупку на сумму {self.bill} c {self.what_device()} {self.browser}. Регион: {p.region} '\n",
    "\n",
    "    "
   ]
  },
  {
   "cell_type": "code",
   "execution_count": null,
   "id": "fd41650e-1a10-4c4c-9d86-711a9e7950be",
   "metadata": {},
   "outputs": [],
   "source": []
  },
  {
   "cell_type": "code",
   "execution_count": 189,
   "id": "b0ab0b18-df0a-4b4f-bdc0-7927311b658d",
   "metadata": {},
   "outputs": [],
   "source": [
    "def print_data(p):\n",
    "    return (f'Пользователь {p.name} {is_male(p)} пола, {p.age} лет, {male_verb(p)} покупку на сумму {p.bill} c мобильного браузера {p.device_type}.Регион: {p.region} ')\n",
    "    "
   ]
  },
  {
   "cell_type": "code",
   "execution_count": 190,
   "id": "7bf14c63-17e1-465c-85fd-230b891c4389",
   "metadata": {},
   "outputs": [],
   "source": [
    "def init_Person(str):\n",
    "    return Person(*str)"
   ]
  },
  {
   "cell_type": "code",
   "execution_count": 191,
   "id": "5d7743cc-c24c-4b88-9aae-bb5d6b703250",
   "metadata": {},
   "outputs": [],
   "source": []
  },
  {
   "cell_type": "code",
   "execution_count": 192,
   "id": "462bdc2b-acc3-4bd7-a67f-b67fae7af1bc",
   "metadata": {},
   "outputs": [],
   "source": []
  },
  {
   "cell_type": "code",
   "execution_count": null,
   "id": "73bf88f0-e12c-469d-8d9a-f6907a22072c",
   "metadata": {},
   "outputs": [],
   "source": []
  },
  {
   "cell_type": "code",
   "execution_count": 198,
   "id": "38131e9b-b054-41a6-80b3-912eb849ec59",
   "metadata": {},
   "outputs": [],
   "source": [
    "def try_to_read():\n",
    "    line = open('web_clients_correct.csv', 'r')\n",
    "    first_string = line.readlines()\n",
    "    print('Выберите номер человека, о ком вы хотите узнать')\n",
    "    id = input()\n",
    "    str1 = first_string[id].split(',')\n",
    "#    p = Person(*str1)\n",
    "    return Person(*str1)\n",
    "    \n",
    "\n",
    "    "
   ]
  },
  {
   "cell_type": "code",
   "execution_count": 199,
   "id": "020cb4f7-18a8-4972-af0e-674617431ac2",
   "metadata": {},
   "outputs": [],
   "source": [
    "def output_file(data):\n",
    "    with open(\"Output1.txt\", \"w\", encoding='utf-8', newline = '') as my_file:\n",
    "        my_file.write(data.info())\n",
    "        my_file.close()"
   ]
  },
  {
   "cell_type": "code",
   "execution_count": 217,
   "id": "d75abcfd-cbdf-4e41-8a6f-b8e370fc0b56",
   "metadata": {},
   "outputs": [
    {
     "name": "stdout",
     "output_type": "stream",
     "text": [
      "Выберите номер человека, о ком вы хотите узнать\n"
     ]
    },
    {
     "name": "stdin",
     "output_type": "stream",
     "text": [
      " 3\n"
     ]
    }
   ],
   "source": [
    "line = open('web_clients_correct.csv', 'r')\n",
    "first_string = line.readlines()\n",
    "print('Выберите номер человека, о ком вы хотите узнать')\n",
    "id = int(input())\n",
    "str1 = first_string[id].split(',')\n",
    "p = Person(*str1)\n",
    "\n",
    "output_file(p)\n",
    "    "
   ]
  },
  {
   "cell_type": "code",
   "execution_count": null,
   "id": "0579165a-b4a8-4e10-8d4c-4cbf3ddb9d6f",
   "metadata": {},
   "outputs": [],
   "source": []
  },
  {
   "cell_type": "code",
   "execution_count": null,
   "id": "2454c9ae-b031-433c-9695-8dccb1a2ca2e",
   "metadata": {},
   "outputs": [],
   "source": []
  }
 ],
 "metadata": {
  "kernelspec": {
   "display_name": "Python 3 (ipykernel)",
   "language": "python",
   "name": "python3"
  },
  "language_info": {
   "codemirror_mode": {
    "name": "ipython",
    "version": 3
   },
   "file_extension": ".py",
   "mimetype": "text/x-python",
   "name": "python",
   "nbconvert_exporter": "python",
   "pygments_lexer": "ipython3",
   "version": "3.12.4"
  }
 },
 "nbformat": 4,
 "nbformat_minor": 5
}
